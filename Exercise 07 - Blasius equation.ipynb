{
  "cells": [
    {
      "cell_type": "markdown",
      "source": [
        "Blasius Equation - Apresentação 10"
      ],
      "metadata": {
        "id": "8Ig5xEQEc4VS"
      },
      "id": "8Ig5xEQEc4VS"
    },
    {
      "cell_type": "code",
      "execution_count": null,
      "id": "dc8c1f38",
      "metadata": {
        "id": "dc8c1f38"
      },
      "outputs": [],
      "source": [
        "import numpy as np\n",
        "import matplotlib.pyplot as plt\n",
        "import scipy.integrate\n",
        "import scipy.optimize"
      ]
    },
    {
      "cell_type": "code",
      "execution_count": null,
      "id": "2a1c1e4a",
      "metadata": {
        "id": "2a1c1e4a"
      },
      "outputs": [],
      "source": [
        "#d2u/dx2 = -\\epsilon*du/dx\n",
        "#u(0) = 0\n",
        "#u(1) = 1"
      ]
    },
    {
      "cell_type": "code",
      "execution_count": null,
      "id": "d9bc978f",
      "metadata": {
        "id": "d9bc978f"
      },
      "outputs": [],
      "source": [
        "#\n",
        "\n",
        "#(u)' = u'\n",
        "#(u')' = -eps*u'\n",
        "\n",
        "eps = 0.1\n",
        "def rhs_ode(t, uvec):\n",
        "    u, du = uvec[0], uvec[1]\n",
        "    return np.array([du, -eps*du])\n",
        "\n",
        "def solve_ivp(u0, du0):\n",
        "    uvec0 = np.array([u0, du0])\n",
        "    t_span = [0, 1]\n",
        "    sol = scipy.integrate.solve_ivp(rhs_ode, t_span, uvec0)\n",
        "    sol_at_b = sol.y[0, -1]\n",
        "    return sol, sol_at_b\n",
        "\n",
        "def g(gamma):\n",
        "    return solve_ivp(0.0, gamma)[1] - 1"
      ]
    },
    {
      "cell_type": "code",
      "execution_count": null,
      "id": "e31141e8",
      "metadata": {
        "id": "e31141e8"
      },
      "outputs": [],
      "source": [
        "gamma = scipy.optimize.bisect(g, 0.5, 2.0)"
      ]
    },
    {
      "cell_type": "code",
      "execution_count": null,
      "id": "5addc6a7",
      "metadata": {
        "id": "5addc6a7"
      },
      "outputs": [],
      "source": [
        "sol, _ = solve_ivp(0, gamma)"
      ]
    },
    {
      "cell_type": "code",
      "execution_count": null,
      "id": "0c36b304",
      "metadata": {
        "id": "0c36b304"
      },
      "outputs": [],
      "source": [
        "t = sol.t\n",
        "u = sol.y[0]\n",
        "du = sol.y[1]"
      ]
    },
    {
      "cell_type": "code",
      "execution_count": null,
      "id": "7e0d600a",
      "metadata": {
        "id": "7e0d600a",
        "outputId": "4a885439-fde2-4316-cbd5-584b439a5fc9"
      },
      "outputs": [
        {
          "data": {
            "text/plain": [
              "[<matplotlib.lines.Line2D at 0x7f2e2b67e910>]"
            ]
          },
          "execution_count": 35,
          "metadata": {},
          "output_type": "execute_result"
        },
        {
          "data": {
            "image/png": "[encoded data removed]",
            "text/plain": [
              "<Figure size 432x288 with 1 Axes>"
            ]
          },
          "metadata": {
            "needs_background": "light"
          },
          "output_type": "display_data"
        }
      ],
      "source": [
        "plt.plot(t, u)"
      ]
    },
    {
      "cell_type": "code",
      "execution_count": null,
      "id": "7c4409d5",
      "metadata": {
        "id": "7c4409d5"
      },
      "outputs": [],
      "source": []
    },
    {
      "cell_type": "code",
      "execution_count": null,
      "id": "21d1b7a6",
      "metadata": {
        "id": "21d1b7a6"
      },
      "outputs": [],
      "source": [
        "#SOLUTION TO THE BLASIUS PROBLEM\n",
        "#f''' + 1/2*f*f'' = 0\n",
        "#f(0) = 0\n",
        "#f'(0) = 0\n",
        "#f'(\\infty) = 1\n",
        "#Here, we consider $\\infty = 10$.\n",
        "\n",
        "def rhs_ode_blasius(t, uvec):\n",
        "    u, du, ddu = uvec[0], uvec[1], uvec[2]\n",
        "    return np.array([du, ddu, -u*ddu/2])\n",
        "\n",
        "def solve_ivp_blasius(u0, du0, ddu0):\n",
        "    uvec0 = np.array([u0, du0, ddu0])\n",
        "    t_span = [0, 10]\n",
        "    sol = scipy.integrate.solve_ivp(rhs_ode_blasius,\n",
        "                                    t_span,\n",
        "                                    uvec0,\n",
        "                                    t_eval=np.linspace(t_span[0],\n",
        "                                                       t_span[1]))\n",
        "    du0_at_10 = sol.y[1, -1]\n",
        "    return sol, du0_at_10\n",
        "\n",
        "def g(gamma):\n",
        "    u0 = 0\n",
        "    du0 = 0\n",
        "    return solve_ivp_blasius(u0, du0, gamma)[1] - 1"
      ]
    },
    {
      "cell_type": "code",
      "execution_count": null,
      "id": "b756c4b5",
      "metadata": {
        "id": "b756c4b5"
      },
      "outputs": [],
      "source": [
        "gamma = scipy.optimize.bisect(g, 0.0, 2.0)"
      ]
    },
    {
      "cell_type": "code",
      "execution_count": null,
      "id": "c9f97620",
      "metadata": {
        "id": "c9f97620"
      },
      "outputs": [],
      "source": [
        "sol = solve_ivp_blasius(0, 0, gamma)[0]"
      ]
    },
    {
      "cell_type": "code",
      "execution_count": null,
      "id": "97ca7ac1",
      "metadata": {
        "id": "97ca7ac1",
        "outputId": "54d36be6-faa9-4a63-a4a4-7afdc64b1933"
      },
      "outputs": [
        {
          "data": {
            "text/plain": [
              "Text(0.5, 1.0, 'Solution of the Blasius problem')"
            ]
          },
          "execution_count": 58,
          "metadata": {},
          "output_type": "execute_result"
        },
        {
          "data": {
            "image/png": "[encoded data removed]",
            "text/plain": [
              "<Figure size 432x288 with 1 Axes>"
            ]
          },
          "metadata": {
            "needs_background": "light"
          },
          "output_type": "display_data"
        }
      ],
      "source": [
        "t = sol.t\n",
        "f = sol.y[0, :]\n",
        "df = sol.y[1, :]\n",
        "d2f = sol.y[2, :]\n",
        "plt.plot(t, df)\n",
        "plt.axhline(1, color='black', linestyle='--')\n",
        "plt.xlabel(r\"$\\eta$\")\n",
        "plt.ylabel(r\"$f'$\")\n",
        "plt.title(\"Solution of the Blasius problem\")"
      ]
    },
    {
      "cell_type": "code",
      "execution_count": null,
      "id": "45679703",
      "metadata": {
        "id": "45679703"
      },
      "outputs": [],
      "source": []
    }
  ],
  "metadata": {
    "kernelspec": {
      "display_name": "Python 3 (ipykernel)",
      "language": "python",
      "name": "python3"
    },
    "language_info": {
      "codemirror_mode": {
        "name": "ipython",
        "version": 3
      },
      "file_extension": ".py",
      "mimetype": "text/x-python",
      "name": "python",
      "nbconvert_exporter": "python",
      "pygments_lexer": "ipython3",
      "version": "3.9.7"
    },
    "colab": {
      "provenance": []
    }
  },
  "nbformat": 4,
  "nbformat_minor": 5
}
